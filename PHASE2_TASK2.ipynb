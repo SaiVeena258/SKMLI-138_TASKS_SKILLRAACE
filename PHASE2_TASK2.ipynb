{
  "nbformat": 4,
  "nbformat_minor": 0,
  "metadata": {
    "colab": {
      "provenance": []
    },
    "kernelspec": {
      "name": "python3",
      "display_name": "Python 3"
    },
    "language_info": {
      "name": "python"
    }
  },
  "cells": [
    {
      "cell_type": "code",
      "source": [
        "import pandas as pd\n",
        "from sklearn.model_selection import train_test_split\n",
        "from sklearn.ensemble import RandomForestRegressor\n",
        "from sklearn.metrics import mean_squared_error\n",
        "from sklearn.model_selection import GridSearchCV\n",
        "\n",
        "#Load the dataset\n",
        "data = pd.read_csv('/content/hour.csv')\n",
        "\n",
        "# Display the first few rows of the dataset\n",
        "print(data.head(3))\n",
        "\n",
        "# Handle missing values if necessary\n",
        "data.fillna(method='ffill', inplace=True)\n",
        "\n",
        "# Convert 'weathersit' to categorical codes\n",
        "data['weathersit'] = data['weathersit'].astype('category').cat.codes\n",
        "\n",
        "# Rename columns to match the previous example\n",
        "data.rename(columns={'weathersit': 'weather', 'temp': 'temperature'}, inplace=True)\n",
        "\n",
        "# Extract relevant features\n",
        "data['hour'] = data['hr']\n",
        "data['day_of_week'] = data['weekday']\n",
        "\n",
        "# Drop unnecessary columns\n",
        "columns_to_drop = ['instant', 'dteday', 'season', 'yr', 'mnth', 'hr', 'holiday', 'weekday', 'workingday', 'atemp', 'hum', 'windspeed', 'casual', 'registered']\n",
        "data.drop(columns=columns_to_drop, inplace=True)\n",
        "\n",
        "# Display the preprocessed data\n",
        "print(\"After Processing:-\")\n",
        "print(data.head(3))\n",
        "\n",
        "# Split the data into features and target\n",
        "X = data.drop(columns=['cnt'])  # 'cnt' is the target variable\n",
        "y = data['cnt']\n",
        "\n",
        "# Split the data into training and testing sets\n",
        "X_train, X_test, y_train, y_test = train_test_split(X, y, test_size=0.2, random_state=42)\n",
        "\n",
        "# Initialize the model\n",
        "model = RandomForestRegressor(n_estimators=100, random_state=42)\n",
        "\n",
        "# Train the model\n",
        "model.fit(X_train, y_train)\n",
        "\n",
        "# Make predictions on the test set\n",
        "y_pred = model.predict(X_test)\n",
        "\n",
        "# Evaluate the model\n",
        "rmse = mean_squared_error(y_test, y_pred, squared=False)\n",
        "print(f'RMSE: {rmse}')\n",
        "\n",
        "# Define the parameter grid for GridSearchCV\n",
        "param_grid = {\n",
        "    'n_estimators': [100, 200, 300],\n",
        "    'max_depth': [None, 10, 20, 30]\n",
        "}\n",
        "\n",
        "# Initialize GridSearchCV\n",
        "grid_search = GridSearchCV(estimator=model, param_grid=param_grid, cv=3, scoring='neg_mean_squared_error')\n",
        "\n",
        "# Fit the grid search to the data\n",
        "grid_search.fit(X_train, y_train)\n",
        "\n",
        "# Get the best parameters\n",
        "best_params = grid_search.best_params_\n",
        "print(f'Best parameters: {best_params}')\n",
        "\n",
        "# Use the best model to make predictions\n",
        "best_model = grid_search.best_estimator_\n",
        "\n",
        "# Function to predict ride requests for a specific hour\n",
        "def predict_ride_requests(hour, day_of_week, temperature, weather, model, feature_names):\n",
        "    # Convert weather to categorical code\n",
        "    weather_code = pd.Series([weather]).astype('category').cat.codes[0]\n",
        "    # Create a dataframe with the input features\n",
        "    input_data = pd.DataFrame({\n",
        "        'hour': [hour],\n",
        "        'day_of_week': [day_of_week],\n",
        "        'temperature': [temperature],\n",
        "        'weather': [weather_code]\n",
        "    })\n",
        "    # Ensure the feature order matches the training data\n",
        "    input_data = input_data[feature_names]\n",
        "    # Predict ride requests\n",
        "    prediction = model.predict(input_data)\n",
        "    # Round the prediction to the nearest integer\n",
        "    return round(prediction[0])\n",
        "\n",
        "    # Ensure the feature order matches the training data\n",
        "    input_data = input_data[feature_names]\n",
        "    # Predict ride requests\n",
        "    prediction = model.predict(input_data)\n",
        "    return prediction[0]\n"
      ],
      "metadata": {
        "colab": {
          "base_uri": "https://localhost:8080/"
        },
        "id": "NGMyJEbJ8sxm",
        "outputId": "db65f964-6f81-40e1-b3bc-377e3b3c8fb2"
      },
      "execution_count": 40,
      "outputs": [
        {
          "output_type": "stream",
          "name": "stdout",
          "text": [
            "   instant      dteday  season  yr  mnth  hr  holiday  weekday  workingday  \\\n",
            "0        1  2011-01-01       1   0     1   0        0        6           0   \n",
            "1        2  2011-01-01       1   0     1   1        0        6           0   \n",
            "2        3  2011-01-01       1   0     1   2        0        6           0   \n",
            "\n",
            "   weathersit  temp   atemp   hum  windspeed  casual  registered  cnt  \n",
            "0           1  0.24  0.2879  0.81        0.0       3          13   16  \n",
            "1           1  0.22  0.2727  0.80        0.0       8          32   40  \n",
            "2           1  0.22  0.2727  0.80        0.0       5          27   32  \n",
            "After Processing:-\n",
            "   weather  temperature  cnt  hour  day_of_week\n",
            "0        0         0.24   16     0            6\n",
            "1        0         0.22   40     1            6\n",
            "2        0         0.22   32     2            6\n",
            "RMSE: 88.16245262999722\n",
            "Best parameters: {'max_depth': 10, 'n_estimators': 300}\n"
          ]
        }
      ]
    },
    {
      "cell_type": "code",
      "source": [
        "# Ensure the feature order matches the training data\n",
        "feature_names = X.columns.tolist()\n",
        "\n",
        "# Example usage of the prediction function\n",
        "hour = 17\n",
        "day_of_week = 6\n",
        "temperature = 0.44\n",
        "weather = 1  # Clear weather\n",
        "\n",
        "predicted_requests = predict_ride_requests(hour, day_of_week, temperature, weather, best_model, feature_names)\n",
        "print(f'Predicted ride requests for {hour}:00 on day {day_of_week} with temperature {temperature*100}°C and weather {weather} : {predicted_requests}')"
      ],
      "metadata": {
        "colab": {
          "base_uri": "https://localhost:8080/"
        },
        "id": "SgMfNG7vHSGn",
        "outputId": "414f0051-df46-4f25-ce4e-5067f9d06f56"
      },
      "execution_count": 41,
      "outputs": [
        {
          "output_type": "stream",
          "name": "stdout",
          "text": [
            "Predicted ride requests for 17:00 on day 6 with temperature 44.0°C and weather 1 : 277\n"
          ]
        }
      ]
    }
  ]
}